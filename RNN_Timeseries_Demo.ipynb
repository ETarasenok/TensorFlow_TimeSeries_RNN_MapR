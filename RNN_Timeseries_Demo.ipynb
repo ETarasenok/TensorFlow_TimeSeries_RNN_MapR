{
 "cells": [
  {
   "cell_type": "markdown",
   "metadata": {},
   "source": [
    "# RNN Time Series example using Tensorflow\n",
    "Justin Brandenburg, MapR Technologies"
   ]
  },
  {
   "cell_type": "code",
   "execution_count": 22,
   "metadata": {
    "collapsed": false
   },
   "outputs": [
    {
     "data": {
      "text/plain": [
       "'3.5.2 |Anaconda 4.2.0 (64-bit)| (default, Jul  2 2016, 17:53:06) \\n[GCC 4.4.7 20120313 (Red Hat 4.4.7-1)]'"
      ]
     },
     "execution_count": 22,
     "metadata": {},
     "output_type": "execute_result"
    }
   ],
   "source": [
    "#What are we working with?\n",
    "import sys\n",
    "sys.version"
   ]
  },
  {
   "cell_type": "code",
   "execution_count": 23,
   "metadata": {
    "collapsed": false
   },
   "outputs": [],
   "source": [
    "#Import Libraries\n",
    "import tensorflow as tf\n",
    "import pandas as pd\n",
    "import numpy as np\n",
    "import os\n",
    "import matplotlib\n",
    "import matplotlib.pyplot as plt\n",
    "import random\n",
    "%matplotlib inline\n",
    "import tensorflow as tf\n",
    "import shutil\n",
    "import tensorflow.contrib.learn as tflearn\n",
    "import tensorflow.contrib.layers as tflayers\n",
    "from tensorflow.contrib.learn.python.learn import learn_runner\n",
    "import tensorflow.contrib.metrics as metrics\n",
    "import tensorflow.contrib.rnn as rnn"
   ]
  },
  {
   "cell_type": "code",
   "execution_count": 24,
   "metadata": {
    "collapsed": false
   },
   "outputs": [
    {
     "data": {
      "text/plain": [
       "'1.0.1'"
      ]
     },
     "execution_count": 24,
     "metadata": {},
     "output_type": "execute_result"
    }
   ],
   "source": [
    "#TF Version\n",
    "tf.__version__"
   ]
  },
  {
   "cell_type": "markdown",
   "metadata": {},
   "source": [
    "#### Generate some data"
   ]
  },
  {
   "cell_type": "code",
   "execution_count": 73,
   "metadata": {
    "collapsed": false
   },
   "outputs": [
    {
     "data": {
      "image/png": "[encoded data removed]",
      "text/plain": [
       "<matplotlib.figure.Figure at 0x7f5880156cf8>"
      ]
     },
     "metadata": {},
     "output_type": "display_data"
    },
    {
     "data": {
      "text/plain": [
       "2000-01-31     9.459907\n",
       "2000-02-29    15.333862\n",
       "2000-03-31     6.712374\n",
       "2000-04-30     3.990828\n",
       "2000-05-31    -3.341279\n",
       "2000-06-30    -7.932917\n",
       "2000-07-31    -4.380528\n",
       "2000-08-31    -7.867582\n",
       "2000-09-30    -7.678637\n",
       "2000-10-31   -11.893635\n",
       "Freq: M, dtype: float64"
      ]
     },
     "execution_count": 73,
     "metadata": {},
     "output_type": "execute_result"
    }
   ],
   "source": [
    "random.seed(111)\n",
    "rng = pd.date_range(start='2000', periods=209, freq='M')\n",
    "ts = pd.Series(np.random.uniform(-10, 10, size=len(rng)), rng).cumsum()\n",
    "ts.plot(c='b', title='Example Time Series')\n",
    "plt.show()\n",
    "ts.head(10)"
   ]
  },
  {
   "cell_type": "markdown",
   "metadata": {},
   "source": [
    "#### Convert data into array that can be broken up into training \"batches\" that we will feed into our RNN model.  Note the shape of the arrays. "
   ]
  },
  {
   "cell_type": "code",
   "execution_count": 74,
   "metadata": {
    "collapsed": false
   },
   "outputs": [
    {
     "name": "stdout",
     "output_type": "stream",
     "text": [
      "10\n",
      "(10, 20, 1)\n",
      "[[[  9.45990716]\n",
      "  [ 15.33386214]\n",
      "  [  6.71237381]\n",
      "  [  3.99082793]\n",
      "  [ -3.3412788 ]\n",
      "  [ -7.93291687]\n",
      "  [ -4.38052785]\n",
      "  [ -7.86758207]\n",
      "  [ -7.67863699]\n",
      "  [-11.89363472]\n",
      "  [-13.69998622]\n",
      "  [-16.14347503]\n",
      "  [-14.47510427]\n",
      "  [-22.89621352]\n",
      "  [-13.02399496]\n",
      "  [-20.30929649]\n",
      "  [-29.23297827]\n",
      "  [-21.03236568]\n",
      "  [-23.72978892]\n",
      "  [-33.64032041]]\n",
      "\n",
      " [[-38.62292679]\n",
      "  [-32.45610061]\n",
      "  [-27.59971456]\n",
      "  [-24.69683723]\n",
      "  [-18.18395419]\n",
      "  [-18.72744689]\n",
      "  [-10.34940554]\n",
      "  [-14.95633735]\n",
      "  [-15.02343588]\n",
      "  [ -8.43583867]\n",
      "  [ -7.55887007]\n",
      "  [-12.7620289 ]\n",
      "  [-16.0889828 ]\n",
      "  [ -8.87836987]\n",
      "  [ -8.29846383]\n",
      "  [-11.38304263]\n",
      "  [ -8.90262955]\n",
      "  [-15.94238896]\n",
      "  [-11.1148985 ]\n",
      "  [-13.83735967]]]\n",
      "[[[ 15.33386214]\n",
      "  [  6.71237381]\n",
      "  [  3.99082793]\n",
      "  [ -3.3412788 ]\n",
      "  [ -7.93291687]\n",
      "  [ -4.38052785]\n",
      "  [ -7.86758207]\n",
      "  [ -7.67863699]\n",
      "  [-11.89363472]\n",
      "  [-13.69998622]\n",
      "  [-16.14347503]\n",
      "  [-14.47510427]\n",
      "  [-22.89621352]\n",
      "  [-13.02399496]\n",
      "  [-20.30929649]\n",
      "  [-29.23297827]\n",
      "  [-21.03236568]\n",
      "  [-23.72978892]\n",
      "  [-33.64032041]\n",
      "  [-38.62292679]]]\n",
      "(10, 20, 1)\n"
     ]
    }
   ],
   "source": [
    "TS = np.array(ts)\n",
    "num_periods = 20\n",
    "f_horizon = 1  #forecast horizon, one period into the future\n",
    "\n",
    "x_data = TS[:(len(TS)-(len(TS) % num_periods))]\n",
    "x_batches = x_data.reshape(-1, 20, 1)\n",
    "\n",
    "y_data = TS[1:(len(TS)-(len(TS) % num_periods))+f_horizon]\n",
    "y_batches = y_data.reshape(-1, 20, 1)\n",
    "print (len(x_batches))\n",
    "print (x_batches.shape)\n",
    "print (x_batches[0:2])\n",
    "\n",
    "print (y_batches[0:1])\n",
    "print (y_batches.shape)"
   ]
  },
  {
   "cell_type": "markdown",
   "metadata": {},
   "source": [
    "#### Pull out our test data"
   ]
  },
  {
   "cell_type": "code",
   "execution_count": 75,
   "metadata": {
    "collapsed": false
   },
   "outputs": [
    {
     "name": "stdout",
     "output_type": "stream",
     "text": [
      "(1, 20, 1)\n",
      "[[[ -66.06378071]\n",
      "  [ -70.64374528]\n",
      "  [ -69.77464756]\n",
      "  [ -78.84581389]\n",
      "  [ -81.55730718]\n",
      "  [ -86.45367479]\n",
      "  [ -94.50903422]\n",
      "  [ -94.45531054]\n",
      "  [ -97.33982342]\n",
      "  [ -89.77619117]\n",
      "  [ -89.2418552 ]\n",
      "  [ -96.32521035]\n",
      "  [-104.77615885]\n",
      "  [-103.40328238]\n",
      "  [ -97.81500242]\n",
      "  [ -99.61218111]\n",
      "  [ -98.91747746]\n",
      "  [ -92.78987633]\n",
      "  [ -89.75651817]\n",
      "  [ -87.61022262]]]\n"
     ]
    }
   ],
   "source": [
    "def test_data(series,forecast,num_periods):\n",
    "    test_x_setup = TS[-(num_periods + forecast):]\n",
    "    testX = test_x_setup[:num_periods].reshape(-1, 20, 1)\n",
    "    testY = TS[-(num_periods):].reshape(-1, 20, 1)\n",
    "    return testX,testY\n",
    "\n",
    "X_test, Y_test = test_data(TS,f_horizon,num_periods )\n",
    "print (X_test.shape)\n",
    "print (X_test)"
   ]
  },
  {
   "cell_type": "code",
   "execution_count": 76,
   "metadata": {
    "collapsed": false
   },
   "outputs": [],
   "source": [
    "tf.reset_default_graph()   #We didn't have any previous graph objects running, but this would reset the graphs\n",
    "\n",
    "num_periods = 20      #number of periods per vector we are using to predict one period ahead\n",
    "inputs = 1            #number of vectors submitted\n",
    "hidden = 100          #number of neurons we will recursively work through, can be changed to improve accuracy\n",
    "output = 1            #number of output vectors\n",
    "\n",
    "X = tf.placeholder(tf.float32, [None, num_periods, inputs])   #create variable objects\n",
    "y = tf.placeholder(tf.float32, [None, num_periods, output])\n",
    "\n",
    "\n",
    "basic_cell = tf.contrib.rnn.BasicRNNCell(num_units=hidden, activation=tf.nn.relu)   #create our RNN object\n",
    "rnn_output, states = tf.nn.dynamic_rnn(basic_cell, X, dtype=tf.float32)               #choose dynamic over static\n",
    "\n",
    "learning_rate = 0.001   #small learning rate so we don't overshoot the minimum\n",
    "\n",
    "stacked_rnn_output = tf.reshape(rnn_output, [-1, hidden])           #change the form into a tensor\n",
    "stacked_outputs = tf.layers.dense(stacked_rnn_output, output)        #specify the type of layer (dense)\n",
    "outputs = tf.reshape(stacked_outputs, [-1, num_periods, output])          #shape of results\n",
    " \n",
    "loss = tf.reduce_sum(tf.square(outputs - y))    #define the cost function which evaluates the quality of our model\n",
    "optimizer = tf.train.AdamOptimizer(learning_rate=learning_rate)          #gradient descent method\n",
    "training_op = optimizer.minimize(loss)          #train the result of the application of the cost_function                                 \n",
    "\n",
    "init = tf.global_variables_initializer()           #initialize all the variables"
   ]
  },
  {
   "cell_type": "code",
   "execution_count": 77,
   "metadata": {
    "collapsed": false
   },
   "outputs": [
    {
     "name": "stdout",
     "output_type": "stream",
     "text": [
      "0 \tMSE: 724844.0\n",
      "100 \tMSE: 19297.0\n",
      "200 \tMSE: 10030.5\n",
      "300 \tMSE: 4453.94\n",
      "400 \tMSE: 2486.23\n",
      "500 \tMSE: 1849.27\n",
      "600 \tMSE: 1537.43\n",
      "700 \tMSE: 1365.78\n",
      "800 \tMSE: 1141.08\n",
      "900 \tMSE: 1062.75\n",
      "[[[ -65.43389893]\n",
      "  [ -70.15782166]\n",
      "  [ -74.97548676]\n",
      "  [ -76.0067215 ]\n",
      "  [ -80.11599731]\n",
      "  [ -87.79607391]\n",
      "  [ -98.87727356]\n",
      "  [-100.79344177]\n",
      "  [ -96.78859711]\n",
      "  [ -88.2572937 ]\n",
      "  [ -89.33888245]\n",
      "  [ -98.35159302]\n",
      "  [-113.49594879]\n",
      "  [-103.05888367]\n",
      "  [ -92.25975037]\n",
      "  [ -93.55337524]\n",
      "  [-113.38123322]\n",
      "  [-112.15855408]\n",
      "  [ -85.15632629]\n",
      "  [ -60.79482269]]]\n"
     ]
    }
   ],
   "source": [
    "epochs = 1000     #number of iterations or training cycles, includes both the FeedFoward and Backpropogation\n",
    "\n",
    "with tf.Session() as sess:\n",
    "    init.run()\n",
    "    for ep in range(epochs):\n",
    "        sess.run(training_op, feed_dict={X: x_batches, y: y_batches})\n",
    "        if ep % 100 == 0:\n",
    "            mse = loss.eval(feed_dict={X: x_batches, y: y_batches})\n",
    "            print(ep, \"\\tMSE:\", mse)\n",
    "    \n",
    "    y_pred = sess.run(outputs, feed_dict={X: X_test})\n",
    "    print(y_pred)"
   ]
  },
  {
   "cell_type": "code",
   "execution_count": 78,
   "metadata": {
    "collapsed": false
   },
   "outputs": [
    {
     "data": {
      "image/png": "[encoded data removed]",
      "text/plain": [
       "<matplotlib.figure.Figure at 0x7f58781aff28>"
      ]
     },
     "metadata": {},
     "output_type": "display_data"
    }
   ],
   "source": [
    "plt.title(\"Forecast vs Actual\", fontsize=14)\n",
    "plt.plot(pd.Series(np.ravel(Y_test)), \"bo\", markersize=10, label=\"Actual\")\n",
    "#plt.plot(pd.Series(np.ravel(Y_test)), \"w*\", markersize=10)\n",
    "plt.plot(pd.Series(np.ravel(y_pred)), \"r.\", markersize=10, label=\"Forecast\")\n",
    "plt.legend(loc=\"upper left\")\n",
    "plt.xlabel(\"Time Periods\")\n",
    "\n",
    "plt.show()\n",
    "\n"
   ]
  },
  {
   "cell_type": "code",
   "execution_count": null,
   "metadata": {
    "collapsed": true
   },
   "outputs": [],
   "source": []
  }
 ],
 "metadata": {
  "anaconda-cloud": {},
  "kernelspec": {
   "display_name": "Python [conda root]",
   "language": "python",
   "name": "conda-root-py"
  },
  "language_info": {
   "codemirror_mode": {
    "name": "ipython",
    "version": 3
   },
   "file_extension": ".py",
   "mimetype": "text/x-python",
   "name": "python",
   "nbconvert_exporter": "python",
   "pygments_lexer": "ipython3",
   "version": "3.5.2"
  }
 },
 "nbformat": 4,
 "nbformat_minor": 1
}
